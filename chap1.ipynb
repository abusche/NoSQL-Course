{
 "cells": [
  {
   "cell_type": "code",
   "execution_count": 1,
   "id": "2732461f-ee47-418e-a8cf-5e92b571c343",
   "metadata": {},
   "outputs": [],
   "source": [
    "# Exercice CHAP1"
   ]
  }
 ],
 "metadata": {
  "kernelspec": {
   "display_name": "Python 3 (ipykernel)",
   "language": "python",
   "name": "python3"
  },
  "language_info": {
   "codemirror_mode": {
    "name": "ipython",
    "version": 3
   },
   "file_extension": ".py",
   "mimetype": "text/x-python",
   "name": "python",
   "nbconvert_exporter": "python",
   "pygments_lexer": "ipython3",
   "version": "3.9.12"
  }
 },
 "nbformat": 4,
 "nbformat_minor": 5
}
