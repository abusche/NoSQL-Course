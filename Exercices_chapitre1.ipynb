{
 "cells": [
  {
   "cell_type": "markdown",
   "id": "049004df-3afb-49f9-a613-742bfa97a862",
   "metadata": {},
   "source": [
    "# Exercices Chapitre 1"
   ]
  },
  {
   "cell_type": "markdown",
   "id": "abdf1acf-7aa7-43a2-a759-52f12a328b19",
   "metadata": {},
   "source": [
    "## SQLite"
   ]
  },
  {
   "cell_type": "markdown",
   "id": "1e7d932e-9cab-4f41-930b-41862e5a45a9",
   "metadata": {},
   "source": [
    "### 1) Read all the data from bc.csv, how many rows is there ? Columns ? "
   ]
  },
  {
   "cell_type": "code",
   "execution_count": 1,
   "id": "0747b8e0-10d6-4819-a865-4c804ed7708b",
   "metadata": {},
   "outputs": [
    {
     "name": "stdout",
     "output_type": "stream",
     "text": [
      "Il y a 33 colonnes et 569 lignes\n"
     ]
    },
    {
     "data": {
      "text/html": [
       "<div>\n",
       "<style scoped>\n",
       "    .dataframe tbody tr th:only-of-type {\n",
       "        vertical-align: middle;\n",
       "    }\n",
       "\n",
       "    .dataframe tbody tr th {\n",
       "        vertical-align: top;\n",
       "    }\n",
       "\n",
       "    .dataframe thead th {\n",
       "        text-align: right;\n",
       "    }\n",
       "</style>\n",
       "<table border=\"1\" class=\"dataframe\">\n",
       "  <thead>\n",
       "    <tr style=\"text-align: right;\">\n",
       "      <th></th>\n",
       "      <th>id</th>\n",
       "      <th>diagnosis</th>\n",
       "      <th>radius_mean</th>\n",
       "      <th>texture_mean</th>\n",
       "      <th>perimeter_mean</th>\n",
       "      <th>area_mean</th>\n",
       "      <th>smoothness_mean</th>\n",
       "      <th>compactness_mean</th>\n",
       "      <th>concavity_mean</th>\n",
       "      <th>concave points_mean</th>\n",
       "      <th>...</th>\n",
       "      <th>texture_worst</th>\n",
       "      <th>perimeter_worst</th>\n",
       "      <th>area_worst</th>\n",
       "      <th>smoothness_worst</th>\n",
       "      <th>compactness_worst</th>\n",
       "      <th>concavity_worst</th>\n",
       "      <th>concave points_worst</th>\n",
       "      <th>symmetry_worst</th>\n",
       "      <th>fractal_dimension_worst</th>\n",
       "      <th>Unnamed: 32</th>\n",
       "    </tr>\n",
       "  </thead>\n",
       "  <tbody>\n",
       "    <tr>\n",
       "      <th>0</th>\n",
       "      <td>842302</td>\n",
       "      <td>M</td>\n",
       "      <td>17.99</td>\n",
       "      <td>10.38</td>\n",
       "      <td>122.80</td>\n",
       "      <td>1001.0</td>\n",
       "      <td>0.11840</td>\n",
       "      <td>0.27760</td>\n",
       "      <td>0.3001</td>\n",
       "      <td>0.14710</td>\n",
       "      <td>...</td>\n",
       "      <td>17.33</td>\n",
       "      <td>184.60</td>\n",
       "      <td>2019.0</td>\n",
       "      <td>0.1622</td>\n",
       "      <td>0.6656</td>\n",
       "      <td>0.7119</td>\n",
       "      <td>0.2654</td>\n",
       "      <td>0.4601</td>\n",
       "      <td>0.11890</td>\n",
       "      <td>NaN</td>\n",
       "    </tr>\n",
       "    <tr>\n",
       "      <th>1</th>\n",
       "      <td>842517</td>\n",
       "      <td>M</td>\n",
       "      <td>20.57</td>\n",
       "      <td>17.77</td>\n",
       "      <td>132.90</td>\n",
       "      <td>1326.0</td>\n",
       "      <td>0.08474</td>\n",
       "      <td>0.07864</td>\n",
       "      <td>0.0869</td>\n",
       "      <td>0.07017</td>\n",
       "      <td>...</td>\n",
       "      <td>23.41</td>\n",
       "      <td>158.80</td>\n",
       "      <td>1956.0</td>\n",
       "      <td>0.1238</td>\n",
       "      <td>0.1866</td>\n",
       "      <td>0.2416</td>\n",
       "      <td>0.1860</td>\n",
       "      <td>0.2750</td>\n",
       "      <td>0.08902</td>\n",
       "      <td>NaN</td>\n",
       "    </tr>\n",
       "    <tr>\n",
       "      <th>2</th>\n",
       "      <td>84300903</td>\n",
       "      <td>M</td>\n",
       "      <td>19.69</td>\n",
       "      <td>21.25</td>\n",
       "      <td>130.00</td>\n",
       "      <td>1203.0</td>\n",
       "      <td>0.10960</td>\n",
       "      <td>0.15990</td>\n",
       "      <td>0.1974</td>\n",
       "      <td>0.12790</td>\n",
       "      <td>...</td>\n",
       "      <td>25.53</td>\n",
       "      <td>152.50</td>\n",
       "      <td>1709.0</td>\n",
       "      <td>0.1444</td>\n",
       "      <td>0.4245</td>\n",
       "      <td>0.4504</td>\n",
       "      <td>0.2430</td>\n",
       "      <td>0.3613</td>\n",
       "      <td>0.08758</td>\n",
       "      <td>NaN</td>\n",
       "    </tr>\n",
       "    <tr>\n",
       "      <th>3</th>\n",
       "      <td>84348301</td>\n",
       "      <td>M</td>\n",
       "      <td>11.42</td>\n",
       "      <td>20.38</td>\n",
       "      <td>77.58</td>\n",
       "      <td>386.1</td>\n",
       "      <td>0.14250</td>\n",
       "      <td>0.28390</td>\n",
       "      <td>0.2414</td>\n",
       "      <td>0.10520</td>\n",
       "      <td>...</td>\n",
       "      <td>26.50</td>\n",
       "      <td>98.87</td>\n",
       "      <td>567.7</td>\n",
       "      <td>0.2098</td>\n",
       "      <td>0.8663</td>\n",
       "      <td>0.6869</td>\n",
       "      <td>0.2575</td>\n",
       "      <td>0.6638</td>\n",
       "      <td>0.17300</td>\n",
       "      <td>NaN</td>\n",
       "    </tr>\n",
       "    <tr>\n",
       "      <th>4</th>\n",
       "      <td>84358402</td>\n",
       "      <td>M</td>\n",
       "      <td>20.29</td>\n",
       "      <td>14.34</td>\n",
       "      <td>135.10</td>\n",
       "      <td>1297.0</td>\n",
       "      <td>0.10030</td>\n",
       "      <td>0.13280</td>\n",
       "      <td>0.1980</td>\n",
       "      <td>0.10430</td>\n",
       "      <td>...</td>\n",
       "      <td>16.67</td>\n",
       "      <td>152.20</td>\n",
       "      <td>1575.0</td>\n",
       "      <td>0.1374</td>\n",
       "      <td>0.2050</td>\n",
       "      <td>0.4000</td>\n",
       "      <td>0.1625</td>\n",
       "      <td>0.2364</td>\n",
       "      <td>0.07678</td>\n",
       "      <td>NaN</td>\n",
       "    </tr>\n",
       "  </tbody>\n",
       "</table>\n",
       "<p>5 rows × 33 columns</p>\n",
       "</div>"
      ],
      "text/plain": [
       "         id diagnosis  radius_mean  texture_mean  perimeter_mean  area_mean  \\\n",
       "0    842302         M        17.99         10.38          122.80     1001.0   \n",
       "1    842517         M        20.57         17.77          132.90     1326.0   \n",
       "2  84300903         M        19.69         21.25          130.00     1203.0   \n",
       "3  84348301         M        11.42         20.38           77.58      386.1   \n",
       "4  84358402         M        20.29         14.34          135.10     1297.0   \n",
       "\n",
       "   smoothness_mean  compactness_mean  concavity_mean  concave points_mean  \\\n",
       "0          0.11840           0.27760          0.3001              0.14710   \n",
       "1          0.08474           0.07864          0.0869              0.07017   \n",
       "2          0.10960           0.15990          0.1974              0.12790   \n",
       "3          0.14250           0.28390          0.2414              0.10520   \n",
       "4          0.10030           0.13280          0.1980              0.10430   \n",
       "\n",
       "   ...  texture_worst  perimeter_worst  area_worst  smoothness_worst  \\\n",
       "0  ...          17.33           184.60      2019.0            0.1622   \n",
       "1  ...          23.41           158.80      1956.0            0.1238   \n",
       "2  ...          25.53           152.50      1709.0            0.1444   \n",
       "3  ...          26.50            98.87       567.7            0.2098   \n",
       "4  ...          16.67           152.20      1575.0            0.1374   \n",
       "\n",
       "   compactness_worst  concavity_worst  concave points_worst  symmetry_worst  \\\n",
       "0             0.6656           0.7119                0.2654          0.4601   \n",
       "1             0.1866           0.2416                0.1860          0.2750   \n",
       "2             0.4245           0.4504                0.2430          0.3613   \n",
       "3             0.8663           0.6869                0.2575          0.6638   \n",
       "4             0.2050           0.4000                0.1625          0.2364   \n",
       "\n",
       "   fractal_dimension_worst  Unnamed: 32  \n",
       "0                  0.11890          NaN  \n",
       "1                  0.08902          NaN  \n",
       "2                  0.08758          NaN  \n",
       "3                  0.17300          NaN  \n",
       "4                  0.07678          NaN  \n",
       "\n",
       "[5 rows x 33 columns]"
      ]
     },
     "execution_count": 1,
     "metadata": {},
     "output_type": "execute_result"
    }
   ],
   "source": [
    "import pandas as pd\n",
    "data = pd.read_csv(\"C:/Users/busch/OneDrive/Documents/Fac/M1/UE16-IDD/NoSQL/bc.csv\")\n",
    "print(\"Il y a\", len(data.columns), \"colonnes et\", len(data), \"lignes\")\n",
    "data.head()"
   ]
  },
  {
   "cell_type": "markdown",
   "id": "fff2babb-c4f7-419f-901a-b7e801d06cc0",
   "metadata": {},
   "source": [
    "### 2) Insert the bc.csv in the sqlite format."
   ]
  },
  {
   "cell_type": "markdown",
   "id": "73333cd4-eb97-4fc3-86ce-e9db6efe7968",
   "metadata": {},
   "source": [
    "Importation depuis DBbrowser"
   ]
  },
  {
   "cell_type": "markdown",
   "id": "e9f65bcb-5a36-4147-aadb-2725381e46df",
   "metadata": {},
   "source": [
    "### 3) In the same db create a new table called tomatch with two variables id_ and rdm_float."
   ]
  },
  {
   "cell_type": "code",
   "execution_count": 2,
   "id": "b7b8b795-177e-44e1-9e16-bc356669628d",
   "metadata": {
    "tags": []
   },
   "outputs": [],
   "source": [
    "import sqlite3\n",
    "\n",
    "conn = sqlite3.connect(\"C:/Users/busch/OneDrive/Documents/Fac/M1/UE16-IDD/NoSQL/bc.db\")\n",
    "c = conn.cursor()\n",
    "c.execute(\"\"\"CREATE TABLE tomatch(id INT PRIMARY KEY, rdm_float FLOAT)\"\"\")\n",
    "conn.commit()"
   ]
  },
  {
   "cell_type": "markdown",
   "id": "e5ce30c0-c69a-4bf3-87f1-aaa1d9d1df56",
   "metadata": {
    "tags": []
   },
   "source": [
    "### 4) In the table tomatch insert observations where the id_ starts from 50k, ends at 10000000 and is only even numbers. rdm_float is a random float for each observation."
   ]
  },
  {
   "cell_type": "code",
   "execution_count": 27,
   "id": "896da0ca-34c1-41e3-8b41-5b29e4550a76",
   "metadata": {},
   "outputs": [
    {
     "name": "stderr",
     "output_type": "stream",
     "text": [
      "100%|██████████| 9950000/9950000 [01:00<00:00, 164327.25it/s]\n"
     ]
    }
   ],
   "source": [
    "import tqdm\n",
    "import random as rd\n",
    "\n",
    "query = \"\"\"INSERT INTO tomatch(id, rdm_float) VALUES (?,?)\"\"\"\n",
    "\n",
    "list_of_insertion = []\n",
    "for i in tqdm.tqdm(range(50000,10000000,1)):\n",
    "    values = (i,rd.random())\n",
    "    list_of_insertion.append(values)\n",
    "    if len(list_of_insertion) == 10000:\n",
    "        c.executemany(query, list_of_insertion)\n",
    "        list_of_insertion = []\n",
    "conn.commit()"
   ]
  },
  {
   "cell_type": "markdown",
   "id": "cb57aa7d-c435-4659-b801-17c3a3553ede",
   "metadata": {},
   "source": [
    "### 5) Do an Inner join between the two tables and compute the different aggregate functions on a column of your choice."
   ]
  },
  {
   "cell_type": "code",
   "execution_count": 57,
   "id": "a6077c47-ff75-4c4b-a6a8-a94c95daccdb",
   "metadata": {},
   "outputs": [
    {
     "name": "stdout",
     "output_type": "stream",
     "text": [
      "Average Value: 14.010595041322313\n",
      "Count Value: 484\n",
      "Max Value: 28.11\n",
      "Min Value: 6.981\n"
     ]
    }
   ],
   "source": [
    "conn = sqlite3.connect(\"C:/Users/busch/OneDrive/Documents/Fac/M1/UE16-IDD/NoSQL/bc.db\")\n",
    "c = conn.cursor()\n",
    "\n",
    "c.execute(\"\"\"SELECT AVG(table1.radius_mean), COUNT(table1.radius_mean), MAX(table1.radius_mean), MIN(table1.radius_mean)\n",
    "             FROM table1 \n",
    "             INNER JOIN tomatch ON table1.id = tomatch.id\"\"\")\n",
    "results = c.fetchone()\n",
    "print(f\"Average Value: {results[0]}\")\n",
    "print(f\"Count Value: {results[1]}\")\n",
    "print(f\"Max Value: {results[2]}\")\n",
    "print(f\"Min Value: {results[3]}\")"
   ]
  },
  {
   "cell_type": "markdown",
   "id": "526fbafb-8a90-4df3-b741-97c5718a7b11",
   "metadata": {},
   "source": [
    "### 6) How many observations have a radius_mean greater than 15 ? From them how many have a texture_mean greater than 20 ?"
   ]
  },
  {
   "cell_type": "code",
   "execution_count": 66,
   "id": "d4e62a2e-6b84-4021-9c40-b6da3ab3b09d",
   "metadata": {},
   "outputs": [
    {
     "name": "stdout",
     "output_type": "stream",
     "text": [
      "Observations with radius_mean greater than 15 : 173\n",
      "Observations with radius_mean greater than 15 and texture_mean greater thant 20 : 106\n"
     ]
    }
   ],
   "source": [
    "conn = sqlite3.connect(\"C:/Users/busch/OneDrive/Documents/Fac/M1/UE16-IDD/NoSQL/bc.db\")\n",
    "c = conn.cursor()\n",
    "\n",
    "c.execute(\"\"\"SELECT COUNT(*) FROM table1 WHERE radius_mean > 15\"\"\")\n",
    "results = c.fetchone()\n",
    "print(f\"Observations with radius_mean greater than 15 : {results[0]}\")\n",
    "\n",
    "c.execute(\"\"\"SELECT COUNT(*) FROM table1 WHERE radius_mean > 15 AND texture_mean > 20\"\"\")\n",
    "results = c.fetchone()\n",
    "print(f\"Observations with radius_mean greater than 15 and texture_mean greater thant 20 : {results[0]}\")"
   ]
  },
  {
   "cell_type": "markdown",
   "id": "85a428bb-657d-46cd-b4f0-43adb7e21ace",
   "metadata": {},
   "source": [
    "### 7) For each category in diagnosis do the mean of a variable and round it to get only 2 numbers after the comma. Compute the difference between the mean of both groups"
   ]
  },
  {
   "cell_type": "code",
   "execution_count": 89,
   "id": "008aad6d-8bc6-4e5b-bd82-fcd3afaca2f7",
   "metadata": {},
   "outputs": [
    {
     "data": {
      "text/plain": [
       "5.3100000000000005"
      ]
     },
     "execution_count": 89,
     "metadata": {},
     "output_type": "execute_result"
    }
   ],
   "source": [
    "conn = sqlite3.connect(\"C:/Users/busch/OneDrive/Documents/Fac/M1/UE16-IDD/NoSQL/bc.db\")\n",
    "c = conn.cursor()\n",
    "c.execute(\"\"\"SELECT diagnosis, ROUND(AVG(radius_mean),2) FROM table1 GROUP BY diagnosis\"\"\")\n",
    "results = c.fetchall()\n",
    "print(results[1][1]-results[0][1]"
   ]
  },
  {
   "cell_type": "markdown",
   "id": "a566ef80-8182-467f-b707-b9183db9c9b4",
   "metadata": {},
   "source": [
    "### 8) Change the name of the column \"diagnosis\" to \"label\""
   ]
  },
  {
   "cell_type": "code",
   "execution_count": 90,
   "id": "8c26bcf9-401e-4b4a-ba9d-7820ce26e655",
   "metadata": {},
   "outputs": [],
   "source": [
    "conn = sqlite3.connect(\"C:/Users/busch/OneDrive/Documents/Fac/M1/UE16-IDD/NoSQL/bc.db\")\n",
    "c = conn.cursor()\n",
    "c.execute(\"\"\"ALTER TABLE table1 RENAME COLUMN diagnosis TO label\"\"\")\n",
    "conn.commit()"
   ]
  },
  {
   "cell_type": "markdown",
   "id": "bf072e24-13c1-44fd-adde-ae913d5a43db",
   "metadata": {},
   "source": [
    "### 9) Add a column named \"day\" of type DATE."
   ]
  },
  {
   "cell_type": "code",
   "execution_count": 91,
   "id": "2de71050-9b38-409a-89c6-b591bb14348a",
   "metadata": {},
   "outputs": [],
   "source": [
    "conn = sqlite3.connect(\"C:/Users/busch/OneDrive/Documents/Fac/M1/UE16-IDD/NoSQL/bc.db\")\n",
    "c = conn.cursor()\n",
    "c.execute(\"\"\"ALTER TABLE table1 ADD COLUMN day DATE\"\"\")\n",
    "conn.commit()"
   ]
  },
  {
   "cell_type": "markdown",
   "id": "43fb1169-9eeb-4593-b2bc-70795c4d9993",
   "metadata": {},
   "source": [
    "### 10) Change the type of the column \"area_mean\" to int (hint, not possible on sqlite, create a new column)"
   ]
  },
  {
   "cell_type": "code",
   "execution_count": 100,
   "id": "c1019f77-7ec3-4fd3-9977-4d192720c0e8",
   "metadata": {},
   "outputs": [],
   "source": [
    "conn = sqlite3.connect(\"C:/Users/busch/OneDrive/Documents/Fac/M1/UE16-IDD/NoSQL/bc.db\")\n",
    "c = conn.cursor()\n",
    "c.execute(\"\"\"ALTER TABLE table1\n",
    "             ADD COLUMN area_mean_int INTEGER\"\"\")\n",
    "c.execute(\"\"\"UPDATE table1\n",
    "             SET area_mean_int = CAST(area_mean AS INTEGER)\"\"\")\n",
    "conn.commit()"
   ]
  },
  {
   "cell_type": "markdown",
   "id": "492aa4b4-55d9-4012-9f9b-d9ad763ef680",
   "metadata": {},
   "source": [
    "### 11) create a new table called tomatch2 exactly the same way as tomatch except you increment id_ by 10."
   ]
  },
  {
   "cell_type": "code",
   "execution_count": 106,
   "id": "e93dceea-bcbe-460c-a919-5bb71d831346",
   "metadata": {},
   "outputs": [
    {
     "name": "stderr",
     "output_type": "stream",
     "text": [
      "100%|██████████| 995000/995000 [00:06<00:00, 163264.69it/s]\n"
     ]
    }
   ],
   "source": [
    "conn = sqlite3.connect(\"C:/Users/busch/OneDrive/Documents/Fac/M1/UE16-IDD/NoSQL/bc.db\")\n",
    "c = conn.cursor()\n",
    "c.execute(\"\"\"CREATE TABLE tomatch2(id INT PRIMARY KEY, rdm_float FLOAT)\"\"\")\n",
    "\n",
    "query = \"\"\"INSERT INTO tomatch2(id, rdm_float) VALUES (?,?)\"\"\"\n",
    "\n",
    "list_of_insertion = []\n",
    "for i in tqdm.tqdm(range(50000,10000000,10)):\n",
    "    values = (i,rd.random())\n",
    "    list_of_insertion.append(values)\n",
    "    if len(list_of_insertion) == 10000:\n",
    "        c.executemany(query, list_of_insertion)\n",
    "        list_of_insertion = []\n",
    "conn.commit()"
   ]
  },
  {
   "cell_type": "markdown",
   "id": "7f4365d8-ccdc-4526-a410-cbbd434657aa",
   "metadata": {},
   "source": [
    "### 12) Do an inner join of bc, tomatch and tomatch2 where the radius_mean is greater than 15, and the rdm_float is greater than 0.50 in tomatch AND tomatch2."
   ]
  },
  {
   "cell_type": "code",
   "execution_count": 9,
   "id": "a2223cc0-431b-477b-847b-cda51bab77fd",
   "metadata": {},
   "outputs": [
    {
     "data": {
      "text/plain": [
       "<sqlite3.Cursor at 0x21357f3e260>"
      ]
     },
     "execution_count": 9,
     "metadata": {},
     "output_type": "execute_result"
    }
   ],
   "source": [
    "conn = sqlite3.connect(\"C:/Users/busch/OneDrive/Documents/Fac/M1/UE16-IDD/NoSQL/bc.db\")\n",
    "c = conn.cursor()\n",
    "\n",
    "c.execute(\"\"\"SELECT * FROM table1 \n",
    "             INNER JOIN tomatch ON table1.id = tomatch.id \n",
    "             INNER JOIN tomatch2 ON tomatch.id = tomatch2.id\n",
    "             where radius_mean > 15 AND tomatch.rdm_float > 0.5 AND tomatch2.rdm_float > 0.5\"\"\")"
   ]
  },
  {
   "cell_type": "markdown",
   "id": "6be24cad-bf5a-43ae-9144-965315824ca1",
   "metadata": {},
   "source": [
    "## MySQL"
   ]
  },
  {
   "cell_type": "code",
   "execution_count": null,
   "id": "8fe06657-f435-457a-832b-c6562f62e588",
   "metadata": {},
   "outputs": [],
   "source": []
  }
 ],
 "metadata": {
  "kernelspec": {
   "display_name": "Python 3 (ipykernel)",
   "language": "python",
   "name": "python3"
  },
  "language_info": {
   "codemirror_mode": {
    "name": "ipython",
    "version": 3
   },
   "file_extension": ".py",
   "mimetype": "text/x-python",
   "name": "python",
   "nbconvert_exporter": "python",
   "pygments_lexer": "ipython3",
   "version": "3.9.12"
  }
 },
 "nbformat": 4,
 "nbformat_minor": 5
}
